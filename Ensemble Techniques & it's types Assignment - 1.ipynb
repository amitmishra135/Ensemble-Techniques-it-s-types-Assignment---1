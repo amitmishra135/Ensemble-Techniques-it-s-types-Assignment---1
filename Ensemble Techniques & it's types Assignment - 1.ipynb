{
 "cells": [
  {
   "cell_type": "markdown",
   "id": "8cddba0f-0d72-468d-89f0-2091afc86bc4",
   "metadata": {},
   "source": [
    "Q1. What is an ensemble technique in machine learning?\n",
    "\n",
    "Answer ->"
   ]
  },
  {
   "cell_type": "markdown",
   "id": "25614df5-abcb-43e1-97d3-129b3e8104c8",
   "metadata": {},
   "source": [
    "An ensemble technique combines multiple machine learning models to produce a better predictive performance than any individual model."
   ]
  },
  {
   "cell_type": "markdown",
   "id": "7e1afca2-458a-4c45-af6a-453528199bed",
   "metadata": {},
   "source": [
    "Q2. Why are ensemble techniques used in machine learning?\n",
    "\n",
    "Answer ->"
   ]
  },
  {
   "cell_type": "markdown",
   "id": "71cd38b7-0920-47b8-93ae-2ebdefd9701b",
   "metadata": {},
   "source": [
    "Ensemble techniques are used to improve the accuracy, robustness, and generalization of machine learning models by aggregating the strengths of different models."
   ]
  },
  {
   "cell_type": "markdown",
   "id": "87c0d2b5-1a0f-472e-b504-1b925936f69e",
   "metadata": {},
   "source": [
    "Q3. What is bagging?\n",
    "\n",
    "Answer ->"
   ]
  },
  {
   "cell_type": "markdown",
   "id": "4a08ae0d-fafd-4366-925e-cf5b4a1fce87",
   "metadata": {},
   "source": [
    "Bagging (Bootstrap Aggregating) is an ensemble technique where multiple versions of a model are trained on different subsets of the training data, and their predictions are averaged to improve\n",
    "stability and accuracy."
   ]
  },
  {
   "cell_type": "markdown",
   "id": "ef45a895-95d2-491e-a9e5-b5b31641fbb3",
   "metadata": {},
   "source": [
    "Q4. What is boosting?\n",
    "\n",
    "Answer ->"
   ]
  },
  {
   "cell_type": "markdown",
   "id": "00ef86f1-d685-4943-980d-d2af458ae2d4",
   "metadata": {},
   "source": [
    "Boosting is an ensemble technique that combines weak learners sequentially, with each new model focusing on the errors of the previous models, to create a strong overall model."
   ]
  },
  {
   "cell_type": "markdown",
   "id": "a9579b34-675e-42bc-850a-186a04a3201c",
   "metadata": {},
   "source": [
    "Q5. What are the benefits of using ensemble techniques?\n",
    "\n",
    "Answer ->"
   ]
  },
  {
   "cell_type": "markdown",
   "id": "31578786-56d7-42c2-888e-4bdab1b6da7c",
   "metadata": {},
   "source": [
    "* Increased accuracy\n",
    "* Reduced overfitting\n",
    "* Improved robustness\n",
    "* Better generalization"
   ]
  },
  {
   "cell_type": "markdown",
   "id": "79c56e08-b9d7-474d-aff8-848e2f4d77d2",
   "metadata": {},
   "source": [
    "Q6. Are ensemble techniques always better than individual models?\n",
    "\n",
    "Answer ->"
   ]
  },
  {
   "cell_type": "markdown",
   "id": "9c9a6194-9ba3-4ed5-85d5-6551da30c927",
   "metadata": {},
   "source": [
    "No, ensemble techniques are not always better. They can be computationally expensive, and in some cases, a well-tuned single model can perform equally well or better."
   ]
  },
  {
   "cell_type": "markdown",
   "id": "bf2deb1e-a244-4b31-a3a5-b81ca1820baa",
   "metadata": {},
   "source": [
    "Q7. How is the confidence interval calculated using bootstrap?\n",
    "\n",
    "Answer ->"
   ]
  },
  {
   "cell_type": "markdown",
   "id": "70664e1d-874f-4081-91ca-bdf50466f2be",
   "metadata": {},
   "source": [
    "* Resample the dataset with replacement to create multiple bootstrap samples.\n",
    "* Calculate the statistic (e.g., mean) for each sample.\n",
    "* Use the distribution of the statistic from the bootstrap samples to determine the confidence interval, typically using the percentile method."
   ]
  },
  {
   "cell_type": "raw",
   "id": "91b15aa9-b891-4985-bc02-154b1e67b780",
   "metadata": {},
   "source": [
    "Q8. How does bootstrap work and what are the steps involved in bootstrap?\n",
    "\n",
    "Answer ->"
   ]
  },
  {
   "cell_type": "markdown",
   "id": "23fec76c-78b3-4800-a75a-1801a364330f",
   "metadata": {},
   "source": [
    "Bootstrap works by repeatedly resampling the dataset with replacement and calculating the statistic of interest on each resample.\n",
    "\n",
    "- Steps:\n",
    "\n",
    "* Draw multiple bootstrap samples from the original dataset.\n",
    "* Compute the statistic of interest for each sample.\n",
    "* Use the distribution of these statistics to estimate the standard error, bias, and confidence intervals."
   ]
  },
  {
   "cell_type": "code",
   "execution_count": null,
   "id": "86403303-ce5a-4d41-8470-744d8617037a",
   "metadata": {},
   "outputs": [],
   "source": []
  }
 ],
 "metadata": {
  "kernelspec": {
   "display_name": "Python 3 (ipykernel)",
   "language": "python",
   "name": "python3"
  },
  "language_info": {
   "codemirror_mode": {
    "name": "ipython",
    "version": 3
   },
   "file_extension": ".py",
   "mimetype": "text/x-python",
   "name": "python",
   "nbconvert_exporter": "python",
   "pygments_lexer": "ipython3",
   "version": "3.10.8"
  }
 },
 "nbformat": 4,
 "nbformat_minor": 5
}
